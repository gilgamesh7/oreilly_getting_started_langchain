{
 "cells": [
  {
   "cell_type": "code",
   "execution_count": 1,
   "metadata": {},
   "outputs": [
    {
     "name": "stdout",
     "output_type": "stream",
     "text": [
      "aiohappyeyeballs==2.4.3\n",
      "aiohttp==3.10.10\n",
      "aiosignal==1.3.1\n",
      "annotated-types==0.7.0\n",
      "anyio==4.6.2.post1\n",
      "appnope==0.1.4\n",
      "asttokens==2.4.1\n",
      "attrs==24.2.0\n",
      "certifi==2024.8.30\n",
      "charset-normalizer==3.4.0\n",
      "comm==0.2.2\n",
      "dataclasses-json==0.6.7\n",
      "debugpy==1.8.7\n",
      "decorator==5.1.1\n",
      "distro==1.9.0\n",
      "executing==2.1.0\n",
      "frozenlist==1.5.0\n",
      "h11==0.14.0\n",
      "httpcore==1.0.6\n",
      "httpx==0.27.2\n",
      "httpx-sse==0.4.0\n",
      "idna==3.10\n",
      "ipykernel==6.29.5\n",
      "ipython==8.29.0\n",
      "jedi==0.19.1\n",
      "jiter==0.7.0\n",
      "jsonpatch==1.33\n",
      "jsonpointer==3.0.0\n",
      "jupyter_client==8.6.3\n",
      "jupyter_core==5.7.2\n",
      "langchain==0.3.7\n",
      "langchain-community==0.3.5\n",
      "langchain-core==0.3.15\n",
      "langchain-openai==0.2.5\n",
      "langchain-text-splitters==0.3.2\n",
      "langsmith==0.1.139\n",
      "marshmallow==3.23.1\n",
      "matplotlib-inline==0.1.7\n",
      "multidict==6.1.0\n",
      "mypy-extensions==1.0.0\n",
      "nest-asyncio==1.6.0\n",
      "numpy==1.26.4\n",
      "openai==1.53.0\n",
      "orjson==3.10.11\n",
      "packaging==24.1\n",
      "parso==0.8.4\n",
      "pexpect==4.9.0\n",
      "platformdirs==4.3.6\n",
      "prompt_toolkit==3.0.48\n",
      "propcache==0.2.0\n",
      "psutil==6.1.0\n",
      "ptyprocess==0.7.0\n",
      "pure_eval==0.2.3\n",
      "pydantic==2.9.2\n",
      "pydantic-settings==2.6.1\n",
      "pydantic_core==2.23.4\n",
      "Pygments==2.18.0\n",
      "python-dateutil==2.9.0.post0\n",
      "python-dotenv==1.0.1\n",
      "PyYAML==6.0.2\n",
      "pyzmq==26.2.0\n",
      "regex==2024.9.11\n",
      "requests==2.32.3\n",
      "requests-toolbelt==1.0.0\n",
      "six==1.16.0\n",
      "sniffio==1.3.1\n",
      "SQLAlchemy==2.0.35\n",
      "stack-data==0.6.3\n",
      "tenacity==9.0.0\n",
      "tiktoken==0.8.0\n",
      "tornado==6.4.1\n",
      "tqdm==4.66.6\n",
      "traitlets==5.14.3\n",
      "typing-inspect==0.9.0\n",
      "typing_extensions==4.12.2\n",
      "urllib3==2.2.3\n",
      "wcwidth==0.2.13\n",
      "yarl==1.17.1\n"
     ]
    }
   ],
   "source": [
    "!pip freeze"
   ]
  },
  {
   "cell_type": "code",
   "execution_count": 2,
   "metadata": {},
   "outputs": [],
   "source": [
    "# Load environment variables from a .env file\n",
    "import os\n",
    "from dotenv import load_dotenv\n",
    "\n",
    "load_dotenv()\n",
    "\n",
    "os.environ[\"OPENAI_API_KEY\"] = os.getenv(\"OPENAI_API_KEY\")\n",
    "OPENAI_API_KEY = os.getenv(\"OPENAI_API_KEY\")"
   ]
  },
  {
   "cell_type": "code",
   "execution_count": null,
   "metadata": {},
   "outputs": [],
   "source": [
    "from langchain import hub\n",
    "from langchain_community.vectorstores import Chroma \n",
    "from langchain_openai import (\n",
    "    ChatOpenAI,\n",
    "    OpenAIEmbeddings,\n",
    ")\n",
    "from langchain.document_loaders import PyPDFLoader\n",
    "from langchain.chains import RetrievalQA\n",
    "\n"
   ]
  }
 ],
 "metadata": {
  "kernelspec": {
   "display_name": "venv",
   "language": "python",
   "name": "python3"
  },
  "language_info": {
   "codemirror_mode": {
    "name": "ipython",
    "version": 3
   },
   "file_extension": ".py",
   "mimetype": "text/x-python",
   "name": "python",
   "nbconvert_exporter": "python",
   "pygments_lexer": "ipython3",
   "version": "3.12.3"
  }
 },
 "nbformat": 4,
 "nbformat_minor": 2
}
